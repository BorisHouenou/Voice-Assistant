{
  "nbformat": 4,
  "nbformat_minor": 0,
  "metadata": {
    "kernelspec": {
      "display_name": "Python 3",
      "language": "python",
      "name": "python3"
    },
    "language_info": {
      "codemirror_mode": {
        "name": "ipython",
        "version": 3
      },
      "file_extension": ".py",
      "mimetype": "text/x-python",
      "name": "python",
      "nbconvert_exporter": "python",
      "pygments_lexer": "ipython3",
      "version": "3.7.6"
    },
    "colab": {
      "name": "Minchu.ipynb",
      "provenance": [],
      "include_colab_link": true
    }
  },
  "cells": [
    {
      "cell_type": "markdown",
      "metadata": {
        "id": "view-in-github",
        "colab_type": "text"
      },
      "source": [
        "<a href=\"https://colab.research.google.com/github/RajiRai/Voice-Assistant/blob/main/Minchu.ipynb\" target=\"_parent\"><img src=\"https://colab.research.google.com/assets/colab-badge.svg\" alt=\"Open In Colab\"/></a>"
      ]
    },
    {
      "cell_type": "code",
      "metadata": {
        "id": "6khZK3G-6eiB",
        "outputId": "e51fe48f-07e0-4d3a-dcaa-0070efd176ab"
      },
      "source": [
        "pip install SpeechRecognition"
      ],
      "execution_count": null,
      "outputs": [
        {
          "output_type": "stream",
          "text": [
            "Requirement already satisfied: SpeechRecognition in c:\\users\\dhanushdhyan\\anaconda3\\lib\\site-packages (3.8.1)\n",
            "Note: you may need to restart the kernel to use updated packages.\n"
          ],
          "name": "stdout"
        }
      ]
    },
    {
      "cell_type": "code",
      "metadata": {
        "id": "q3LOOCXP6eiG"
      },
      "source": [
        "import speech_recognition as sr\n",
        "import datetime\n",
        "import wikipedia\n",
        "import webbrowser\n",
        "import time\n",
        "import requests\n",
        "import playsound # to play saved mp3 file \n",
        "from gtts import gTTS # google text to speech \n",
        "import os # to save/open files \n",
        "import wolframalpha # to calculate strings into formula \n",
        "from selenium import webdriver # to control browser operations "
      ],
      "execution_count": null,
      "outputs": []
    },
    {
      "cell_type": "code",
      "metadata": {
        "id": "6QzT_P1l6eiJ"
      },
      "source": [
        "def talk():\n",
        "    input=sr.Recognizer()\n",
        "    with sr.Microphone() as source:\n",
        "        audio=input.listen(source)\n",
        "        data=\"\"\n",
        "        try:\n",
        "            data=input.recognize_google(audio)\n",
        "            print(\"Your question is, \" + data)\n",
        "            \n",
        "        except sr.UnknownValueError:\n",
        "            print(\"Sorry I did not hear your question, Please repeat again.\")\n",
        "        return data      "
      ],
      "execution_count": null,
      "outputs": []
    },
    {
      "cell_type": "code",
      "metadata": {
        "id": "AhqfZjOj6eiM"
      },
      "source": [
        "def respond(output):\n",
        "    num=0\n",
        "    print(output)\n",
        "    num += 1\n",
        "    response=gTTS(text=output, lang='en')\n",
        "    file = str(num)+\".mp3\"\n",
        "    response.save(file)\n",
        "    \n",
        "    playsound.playsound(file, True)  \n",
        "    os.remove(file)"
      ],
      "execution_count": null,
      "outputs": []
    },
    {
      "cell_type": "code",
      "metadata": {
        "scrolled": true,
        "id": "x5NmJi5c6eiO",
        "outputId": "2f407114-fc02-41d8-ca83-790bd2276406"
      },
      "source": [
        "if __name__=='__main__':\n",
        "    respond(\"Hi, I am Minchu your personal desktop assistant\")\n",
        "          \n",
        "    while(1):\n",
        "        \n",
        "        respond(\"How can I help you?\")\n",
        "        text=talk().lower()\n",
        "        \n",
        "        if text==0:\n",
        "            continue\n",
        "            \n",
        "        if \"stop\" in str(text) or \"exit\" in str(text) or \"bye\" in str(text):\n",
        "            respond(\"Ok bye and take care\")\n",
        "            break\n",
        "            \n",
        "        if 'wikipedia' in text:\n",
        "            respond('Searching Wikipedia')\n",
        "            text =text.replace(\"wikipedia\", \"\")\n",
        "            results = wikipedia.summary(text, sentences=3)\n",
        "            respond(\"According to Wikipedia\")\n",
        "            print(results)\n",
        "            respond(results)\n",
        "                  \n",
        "        elif 'time' in text:\n",
        "            strTime=datetime.datetime.now().strftime(\"%H:%M:%S\")\n",
        "            respond(f\"the time is {strTime}\")     \n",
        "        \n",
        "            \n",
        "        elif 'search'  in text:\n",
        "            text = text.replace(\"search\", \"\")\n",
        "            webbrowser.open_new_tab(text)\n",
        "            time.sleep(5)\n",
        "        \n",
        "            \n",
        "        elif \"calculate\" or \"what is\" in text: \n",
        "                           \n",
        "            question=talk()\n",
        "            app_id=\"API key\"\n",
        "            client = wolframalpha.Client(app_id)\n",
        "            res = client.query(question)\n",
        "            answer = next(res.results).text\n",
        "            respond(\"The answer is \" + answer)\n",
        "            \n",
        "        elif 'open gmail' in text:\n",
        "            webbrowser.open_new_tab(\"gmail.com\")\n",
        "            respond(\"GMail is open\")\n",
        "            time.sleep(5)\n",
        "            \n",
        "        elif 'youtube' in text: \n",
        "            driver = webdriver.Chrome(r\"C:\\Users\\DhanushDhyan\\Downloads\\chromedriver_win32\\chromedriver.exe\") \n",
        "            driver.implicitly_wait(1) \n",
        "            driver.maximize_window()\n",
        "  \n",
        "            respond(\"Opening in youtube\") \n",
        "            indx = text.split().index('youtube') \n",
        "            query = text.split()[indx + 1:] \n",
        "            driver.get(\"http://www.youtube.com/results?search_query =\" + '+'.join(query)) \n",
        "        \n",
        "        elif \"weather\" in text:\n",
        "            respond(\"what is the city name\")\n",
        "            city_name=talk()\n",
        "            api_key=\"API key\"\n",
        "            base_url=\"https://api.openweathermap.org/data/2.5/weather?\"\n",
        "            complete_url=base_url+\"appid=\"+api_key+\"&q=\"+city_name\n",
        "            response = requests.get(complete_url)\n",
        "            x=response.json()\n",
        "            if x[\"cod\"]!=\"404\":\n",
        "                y=x[\"main\"]\n",
        "                current_temperature = y[\"temp\"]\n",
        "                current_humidiy = y[\"humidity\"]\n",
        "                z = x[\"weather\"]\n",
        "                weather_description = z[0][\"description\"]\n",
        "                respond(\" Temperature is \" +\n",
        "                      str(current_temperature) +\n",
        "                      \"\\n humidity in percentage is \" +\n",
        "                      str(current_humidiy) +\n",
        "                      \"\\n description  \" +\n",
        "                      str(weather_description))\n",
        "                \n",
        "                \n",
        "        elif \"open word\" in text: \n",
        "            respond(\"Opening Microsoft Word\") \n",
        "            os.startfile('file location') \n",
        "        \n",
        "        else: \n",
        "  \n",
        "            respond(\"Application not available\") "
      ],
      "execution_count": null,
      "outputs": [
        {
          "output_type": "stream",
          "text": [
            "Hi, I am Minchu your personal desktop assistant\n",
            "How can I help you?\n",
            "Your question is, weather\n",
            "Sorry I did not hear your question, Please repeat again.\n"
          ],
          "name": "stdout"
        },
        {
          "output_type": "error",
          "ename": "Exception",
          "evalue": "Error 1000: input parameter not present in query",
          "traceback": [
            "\u001b[1;31m---------------------------------------------------------------------------\u001b[0m",
            "\u001b[1;31mException\u001b[0m                                 Traceback (most recent call last)",
            "\u001b[1;32m<ipython-input-11-f36d2e3c1672>\u001b[0m in \u001b[0;36m<module>\u001b[1;34m\u001b[0m\n\u001b[0;32m     44\u001b[0m             \u001b[0mapp_id\u001b[0m\u001b[1;33m=\u001b[0m\u001b[1;34m\"JQRT3J-9H8Q7P98TU\"\u001b[0m\u001b[1;33m\u001b[0m\u001b[1;33m\u001b[0m\u001b[0m\n\u001b[0;32m     45\u001b[0m             \u001b[0mclient\u001b[0m \u001b[1;33m=\u001b[0m \u001b[0mwolframalpha\u001b[0m\u001b[1;33m.\u001b[0m\u001b[0mClient\u001b[0m\u001b[1;33m(\u001b[0m\u001b[1;34m'JQRT3J-9H8Q7P98TU'\u001b[0m\u001b[1;33m)\u001b[0m\u001b[1;33m\u001b[0m\u001b[1;33m\u001b[0m\u001b[0m\n\u001b[1;32m---> 46\u001b[1;33m             \u001b[0mres\u001b[0m \u001b[1;33m=\u001b[0m \u001b[0mclient\u001b[0m\u001b[1;33m.\u001b[0m\u001b[0mquery\u001b[0m\u001b[1;33m(\u001b[0m\u001b[0mquestion\u001b[0m\u001b[1;33m)\u001b[0m\u001b[1;33m\u001b[0m\u001b[1;33m\u001b[0m\u001b[0m\n\u001b[0m\u001b[0;32m     47\u001b[0m             \u001b[0manswer\u001b[0m \u001b[1;33m=\u001b[0m \u001b[0mnext\u001b[0m\u001b[1;33m(\u001b[0m\u001b[0mres\u001b[0m\u001b[1;33m.\u001b[0m\u001b[0mresults\u001b[0m\u001b[1;33m)\u001b[0m\u001b[1;33m.\u001b[0m\u001b[0mtext\u001b[0m\u001b[1;33m\u001b[0m\u001b[1;33m\u001b[0m\u001b[0m\n\u001b[0;32m     48\u001b[0m             \u001b[0mrespond\u001b[0m\u001b[1;33m(\u001b[0m\u001b[1;34m\"The answer is \"\u001b[0m \u001b[1;33m+\u001b[0m \u001b[0manswer\u001b[0m\u001b[1;33m)\u001b[0m\u001b[1;33m\u001b[0m\u001b[1;33m\u001b[0m\u001b[0m\n",
            "\u001b[1;32m~\\anaconda3\\lib\\site-packages\\wolframalpha\\__init__.py\u001b[0m in \u001b[0;36mquery\u001b[1;34m(self, input, params, **kwargs)\u001b[0m\n\u001b[0;32m     52\u001b[0m         \u001b[1;32massert\u001b[0m \u001b[0mresp\u001b[0m\u001b[1;33m.\u001b[0m\u001b[0mheaders\u001b[0m\u001b[1;33m.\u001b[0m\u001b[0mget_content_type\u001b[0m\u001b[1;33m(\u001b[0m\u001b[1;33m)\u001b[0m \u001b[1;33m==\u001b[0m \u001b[1;34m'text/xml'\u001b[0m\u001b[1;33m\u001b[0m\u001b[1;33m\u001b[0m\u001b[0m\n\u001b[0;32m     53\u001b[0m         \u001b[1;32massert\u001b[0m \u001b[0mresp\u001b[0m\u001b[1;33m.\u001b[0m\u001b[0mheaders\u001b[0m\u001b[1;33m.\u001b[0m\u001b[0mget_param\u001b[0m\u001b[1;33m(\u001b[0m\u001b[1;34m'charset'\u001b[0m\u001b[1;33m)\u001b[0m \u001b[1;33m==\u001b[0m \u001b[1;34m'utf-8'\u001b[0m\u001b[1;33m\u001b[0m\u001b[1;33m\u001b[0m\u001b[0m\n\u001b[1;32m---> 54\u001b[1;33m         \u001b[1;32mreturn\u001b[0m \u001b[0mResult\u001b[0m\u001b[1;33m(\u001b[0m\u001b[0mresp\u001b[0m\u001b[1;33m)\u001b[0m\u001b[1;33m\u001b[0m\u001b[1;33m\u001b[0m\u001b[0m\n\u001b[0m\u001b[0;32m     55\u001b[0m \u001b[1;33m\u001b[0m\u001b[0m\n\u001b[0;32m     56\u001b[0m \u001b[1;33m\u001b[0m\u001b[0m\n",
            "\u001b[1;32m~\\anaconda3\\lib\\site-packages\\wolframalpha\\__init__.py\u001b[0m in \u001b[0;36m__init__\u001b[1;34m(self, stream)\u001b[0m\n\u001b[0;32m    167\u001b[0m     \u001b[1;32mdef\u001b[0m \u001b[0m__init__\u001b[0m\u001b[1;33m(\u001b[0m\u001b[0mself\u001b[0m\u001b[1;33m,\u001b[0m \u001b[0mstream\u001b[0m\u001b[1;33m)\u001b[0m\u001b[1;33m:\u001b[0m\u001b[1;33m\u001b[0m\u001b[1;33m\u001b[0m\u001b[0m\n\u001b[0;32m    168\u001b[0m         \u001b[0mdoc\u001b[0m \u001b[1;33m=\u001b[0m \u001b[0mxmltodict\u001b[0m\u001b[1;33m.\u001b[0m\u001b[0mparse\u001b[0m\u001b[1;33m(\u001b[0m\u001b[0mstream\u001b[0m\u001b[1;33m,\u001b[0m \u001b[0mdict_constructor\u001b[0m\u001b[1;33m=\u001b[0m\u001b[0mdict\u001b[0m\u001b[1;33m)\u001b[0m\u001b[1;33m[\u001b[0m\u001b[1;34m'queryresult'\u001b[0m\u001b[1;33m]\u001b[0m\u001b[1;33m\u001b[0m\u001b[1;33m\u001b[0m\u001b[0m\n\u001b[1;32m--> 169\u001b[1;33m         \u001b[0msuper\u001b[0m\u001b[1;33m(\u001b[0m\u001b[0mResult\u001b[0m\u001b[1;33m,\u001b[0m \u001b[0mself\u001b[0m\u001b[1;33m)\u001b[0m\u001b[1;33m.\u001b[0m\u001b[0m__init__\u001b[0m\u001b[1;33m(\u001b[0m\u001b[0mdoc\u001b[0m\u001b[1;33m)\u001b[0m\u001b[1;33m\u001b[0m\u001b[1;33m\u001b[0m\u001b[0m\n\u001b[0m\u001b[0;32m    170\u001b[0m \u001b[1;33m\u001b[0m\u001b[0m\n\u001b[0;32m    171\u001b[0m     \u001b[1;33m@\u001b[0m\u001b[0mproperty\u001b[0m\u001b[1;33m\u001b[0m\u001b[1;33m\u001b[0m\u001b[0m\n",
            "\u001b[1;32m~\\anaconda3\\lib\\site-packages\\wolframalpha\\__init__.py\u001b[0m in \u001b[0;36m__init__\u001b[1;34m(self, *args, **kwargs)\u001b[0m\n\u001b[0;32m     58\u001b[0m     \u001b[1;32mdef\u001b[0m \u001b[0m__init__\u001b[0m\u001b[1;33m(\u001b[0m\u001b[0mself\u001b[0m\u001b[1;33m,\u001b[0m \u001b[1;33m*\u001b[0m\u001b[0margs\u001b[0m\u001b[1;33m,\u001b[0m \u001b[1;33m**\u001b[0m\u001b[0mkwargs\u001b[0m\u001b[1;33m)\u001b[0m\u001b[1;33m:\u001b[0m\u001b[1;33m\u001b[0m\u001b[1;33m\u001b[0m\u001b[0m\n\u001b[0;32m     59\u001b[0m         \u001b[0msuper\u001b[0m\u001b[1;33m(\u001b[0m\u001b[0mErrorHandler\u001b[0m\u001b[1;33m,\u001b[0m \u001b[0mself\u001b[0m\u001b[1;33m)\u001b[0m\u001b[1;33m.\u001b[0m\u001b[0m__init__\u001b[0m\u001b[1;33m(\u001b[0m\u001b[1;33m*\u001b[0m\u001b[0margs\u001b[0m\u001b[1;33m,\u001b[0m \u001b[1;33m**\u001b[0m\u001b[0mkwargs\u001b[0m\u001b[1;33m)\u001b[0m\u001b[1;33m\u001b[0m\u001b[1;33m\u001b[0m\u001b[0m\n\u001b[1;32m---> 60\u001b[1;33m         \u001b[0mself\u001b[0m\u001b[1;33m.\u001b[0m\u001b[0m_handle_error\u001b[0m\u001b[1;33m(\u001b[0m\u001b[1;33m)\u001b[0m\u001b[1;33m\u001b[0m\u001b[1;33m\u001b[0m\u001b[0m\n\u001b[0m\u001b[0;32m     61\u001b[0m \u001b[1;33m\u001b[0m\u001b[0m\n\u001b[0;32m     62\u001b[0m     \u001b[1;32mdef\u001b[0m \u001b[0m_handle_error\u001b[0m\u001b[1;33m(\u001b[0m\u001b[0mself\u001b[0m\u001b[1;33m)\u001b[0m\u001b[1;33m:\u001b[0m\u001b[1;33m\u001b[0m\u001b[1;33m\u001b[0m\u001b[0m\n",
            "\u001b[1;32m~\\anaconda3\\lib\\site-packages\\wolframalpha\\__init__.py\u001b[0m in \u001b[0;36m_handle_error\u001b[1;34m(self)\u001b[0m\n\u001b[0;32m     65\u001b[0m \u001b[1;33m\u001b[0m\u001b[0m\n\u001b[0;32m     66\u001b[0m         \u001b[0mtemplate\u001b[0m \u001b[1;33m=\u001b[0m \u001b[1;34m'Error {error[code]}: {error[msg]}'\u001b[0m\u001b[1;33m\u001b[0m\u001b[1;33m\u001b[0m\u001b[0m\n\u001b[1;32m---> 67\u001b[1;33m         \u001b[1;32mraise\u001b[0m \u001b[0mException\u001b[0m\u001b[1;33m(\u001b[0m\u001b[0mtemplate\u001b[0m\u001b[1;33m.\u001b[0m\u001b[0mformat\u001b[0m\u001b[1;33m(\u001b[0m\u001b[1;33m**\u001b[0m\u001b[0mself\u001b[0m\u001b[1;33m)\u001b[0m\u001b[1;33m)\u001b[0m\u001b[1;33m\u001b[0m\u001b[1;33m\u001b[0m\u001b[0m\n\u001b[0m\u001b[0;32m     68\u001b[0m \u001b[1;33m\u001b[0m\u001b[0m\n\u001b[0;32m     69\u001b[0m \u001b[1;33m\u001b[0m\u001b[0m\n",
            "\u001b[1;31mException\u001b[0m: Error 1000: input parameter not present in query"
          ]
        }
      ]
    },
    {
      "cell_type": "code",
      "metadata": {
        "id": "5cdkDikC6eiR"
      },
      "source": [
        ""
      ],
      "execution_count": null,
      "outputs": []
    }
  ]
}